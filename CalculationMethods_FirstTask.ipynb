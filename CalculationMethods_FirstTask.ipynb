{
 "cells": [
  {
   "cell_type": "code",
   "execution_count": 66,
   "metadata": {},
   "outputs": [],
   "source": [
    "import numpy as np"
   ]
  },
  {
   "cell_type": "code",
   "execution_count": 67,
   "metadata": {},
   "outputs": [],
   "source": [
    "def matrix(n):\n",
    "    result = np.zeros(shape=(n,n))\n",
    "    for i in range(n):\n",
    "        for j in range(n):\n",
    "            result[i,j] = (i+1)**((j+1)/3)\n",
    "    return result"
   ]
  },
  {
   "cell_type": "markdown",
   "metadata": {},
   "source": [
    "тестовая проверочка на правильность генерации"
   ]
  },
  {
   "cell_type": "code",
   "execution_count": 68,
   "metadata": {},
   "outputs": [
    {
     "data": {
      "text/plain": [
       "array([[ 1.        ,  1.        ,  1.        ,  1.        ,  1.        ],\n",
       "       [ 1.25992105,  1.58740105,  2.        ,  2.5198421 ,  3.1748021 ],\n",
       "       [ 1.44224957,  2.08008382,  3.        ,  4.32674871,  6.24025147],\n",
       "       [ 1.58740105,  2.5198421 ,  4.        ,  6.34960421, 10.0793684 ],\n",
       "       [ 1.70997595,  2.92401774,  5.        ,  8.54987973, 14.62008869]])"
      ]
     },
     "execution_count": 68,
     "metadata": {},
     "output_type": "execute_result"
    }
   ],
   "source": [
    "matrix(5)"
   ]
  },
  {
   "cell_type": "code",
   "execution_count": 69,
   "metadata": {},
   "outputs": [],
   "source": [
    "def Eig(X):\n",
    "    V = eig(X)[1]\n",
    "    sigma = np.diag(eig(X)[0]**(0.5))\n",
    "    return V @ sigma @ inv(V)"
   ]
  },
  {
   "cell_type": "markdown",
   "metadata": {},
   "source": [
    "тестовая проверочка на взятие корня"
   ]
  },
  {
   "cell_type": "code",
   "execution_count": 70,
   "metadata": {},
   "outputs": [
    {
     "data": {
      "text/plain": [
       "array([[0.7511801 , 0.49768388, 0.29385344, 0.14847792, 0.06249025],\n",
       "       [0.53950606, 0.68491631, 0.67998191, 0.55222374, 0.35994597],\n",
       "       [0.38938515, 0.63006621, 0.88146629, 1.02964961, 0.96748513],\n",
       "       [0.27649709, 0.51285867, 0.89423841, 1.42036805, 1.92580864],\n",
       "       [0.18801494, 0.38378227, 0.78493109, 1.60303577, 3.25939403]])"
      ]
     },
     "execution_count": 70,
     "metadata": {},
     "output_type": "execute_result"
    }
   ],
   "source": [
    "Eig(matrix(5))"
   ]
  },
  {
   "cell_type": "code",
   "execution_count": 71,
   "metadata": {},
   "outputs": [],
   "source": [
    "def Newt(X,eps):\n",
    "    x1 = np.identity(X.shape[0])\n",
    "    x2 = 0.5*(x1+inv(x1)@X)\n",
    "    while norm(x2-x1)>eps:\n",
    "        x1 = x2\n",
    "        x2 = 0.5*(x1+inv(x1)@X)\n",
    "    return x2"
   ]
  },
  {
   "cell_type": "markdown",
   "metadata": {},
   "source": [
    "тестовая проверочка на взятие корня 2 способом"
   ]
  },
  {
   "cell_type": "code",
   "execution_count": 72,
   "metadata": {},
   "outputs": [
    {
     "data": {
      "text/plain": [
       "array([[0.75118007, 0.49768168, 0.29385549, 0.14847412, 0.06248855],\n",
       "       [0.53950616, 0.68492287, 0.67997578, 0.55223508, 0.35995103],\n",
       "       [0.38938505, 0.63005896, 0.88147306, 1.02963711, 0.96747957],\n",
       "       [0.27649713, 0.51286217, 0.89423513, 1.42037409, 1.92581132],\n",
       "       [0.18801493, 0.38378165, 0.78493168, 1.60303469, 3.25939355]])"
      ]
     },
     "execution_count": 72,
     "metadata": {},
     "output_type": "execute_result"
    }
   ],
   "source": [
    "Newt(matrix(5),0.001)"
   ]
  },
  {
   "cell_type": "code",
   "execution_count": 74,
   "metadata": {},
   "outputs": [
    {
     "name": "stdout",
     "output_type": "stream",
     "text": [
      "|   n |    cnd1 |    cnd2 |    cnd3 |   norm((M - B^2)) |\n",
      "|-----|---------|---------|---------|-------------------|\n",
      "|   1 |       1 |       1 |       1 |                 0 |\n",
      "|   2 | 18.5954 | 4.32162 | 4.32162 |       1.21536e-11 |\n",
      "|   3 | 323.477 | 18.0102 | 18.0102 |        5.7769e-09 |\n",
      "|   4 | 6092.37 | 78.6235 | 78.6206 |       1.36149e-07 |\n",
      "|   5 |  126576 | 363.439 | 362.953 |       7.15601e-05 |\n"
     ]
    }
   ],
   "source": [
    "Cond = []\n",
    "\n",
    "for i in range(1,6):\n",
    "    M = matrix(i)\n",
    "    BE = Eig(M)\n",
    "    BN = Newt(M,0.001)\n",
    "    Cond.append([i,cond(M),cond(BE),cond(BN),norm(BN@BN-M)])\n",
    "\n",
    "print(tabulate(Cond,headers=['n','cnd1','cnd2','cnd3','norm((M - B^2))'],\n",
    "               tablefmt='github',numalign=\"right\"))"
   ]
  },
  {
   "cell_type": "code",
   "execution_count": null,
   "metadata": {},
   "outputs": [],
   "source": []
  },
  {
   "cell_type": "code",
   "execution_count": null,
   "metadata": {},
   "outputs": [],
   "source": []
  }
 ],
 "metadata": {
  "kernelspec": {
   "display_name": "Python 3",
   "language": "python",
   "name": "python3"
  },
  "language_info": {
   "codemirror_mode": {
    "name": "ipython",
    "version": 3
   },
   "file_extension": ".py",
   "mimetype": "text/x-python",
   "name": "python",
   "nbconvert_exporter": "python",
   "pygments_lexer": "ipython3",
   "version": "3.7.6"
  }
 },
 "nbformat": 4,
 "nbformat_minor": 4
}
